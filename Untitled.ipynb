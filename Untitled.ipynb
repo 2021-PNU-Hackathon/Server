{
 "cells": [
  {
   "cell_type": "code",
   "execution_count": 4,
   "metadata": {},
   "outputs": [
    {
     "name": "stderr",
     "output_type": "stream",
     "text": [
      "usage: ipykernel_launcher.py [-h] [--image IMAGE] [--video VIDEO] [--showText SHOWTEXT] [--ps PS]\n",
      "ipykernel_launcher.py: error: unrecognized arguments: -f /Users/roopre/Library/Jupyter/runtime/kernel-e9c699d4-8ea0-4a50-824b-a97054937717.json\n"
     ]
    },
    {
     "ename": "SystemExit",
     "evalue": "2",
     "output_type": "error",
     "traceback": [
      "An exception has occurred, use %tb to see the full traceback.\n",
      "\u001b[0;31mSystemExit\u001b[0m\u001b[0;31m:\u001b[0m 2\n"
     ]
    },
    {
     "name": "stderr",
     "output_type": "stream",
     "text": [
      "/Users/roopre/opt/anaconda3/lib/python3.8/site-packages/IPython/core/interactiveshell.py:3426: UserWarning: To exit: use 'exit', 'quit', or Ctrl-D.\n",
      "  warn(\"To exit: use 'exit', 'quit', or Ctrl-D.\", stacklevel=1)\n"
     ]
    }
   ],
   "source": [
    "#import food_classifier_yolo as fc\n",
    "from food_classifier_yolo import *\n",
    "import cv2\n",
    "from flask import Flask, request\n",
    "import numpy as np\n",
    "import os, glob, numpy as np\n",
    "import json\n",
    "#from mlforkids import MLforKidsImageProject\n",
    "from model.roopre_model import *"
   ]
  },
  {
   "cell_type": "code",
   "execution_count": 9,
   "metadata": {},
   "outputs": [
    {
     "name": "stdout",
     "output_type": "stream",
     "text": [
      "Found 2000 images belonging to 20 classes.\n"
     ]
    }
   ],
   "source": [
    "\n",
    "rp = roopre()\n",
    "rp.md_load()\n",
    "\n",
    "def food_pred(img_name):\n",
    "    #rp.prediction(img_name)\n",
    "    return rp.prediction(img_name)\n",
    "\n",
    "def food_pred_json(image):\n",
    "    # do somthing\n",
    "    #print(args.showText)\n",
    "    locations = food_classifier_pipeline(frame=image) #[(2321, 0, 0, 10, 10)] # list of (id, rect) from classfication\n",
    "    jsons = []\n",
    "    x1_arr = []\n",
    "    y1_arr = []\n",
    "    x2_arr = []\n",
    "    y2_arr = []\n",
    "    name = []\n",
    "    num=0\n",
    "    for j,location in enumerate(locations):\n",
    "        class_id, x, y, width, height, framewidth, frameheight =location\n",
    "        res_json = {}\n",
    "        #res_json[\"ClassID\"] = classes_codes[class_id] # code , class_id (training class)\n",
    "        #name.append(classes[class_id])\n",
    "        x1=x\n",
    "        y1=y\n",
    "        x2 = int(x)+int(width)\n",
    "        y2 = int(y)+int(height)\n",
    "        if(x < 0):\n",
    "            x=0\n",
    "            x1=0\n",
    "        if(y<0):\n",
    "            y=0\n",
    "            y1=0\n",
    "        if(int(x)+int(width) >= framewidth):\n",
    "            x2_arr.append(framewidth)\n",
    "            x2=framewidth\n",
    "        else:\n",
    "            x2_arr.append(int(x)+int(width))\n",
    "            x2=x+width\n",
    "\n",
    "        if(int(y)+int(height) >= frameheight):\n",
    "            y2_arr.append(frameheight)\n",
    "            y2=frameheight\n",
    "        else:\n",
    "            y2_arr.append(int(y)+int(height))\n",
    "            h2=int(y)+int(height)\n",
    "\n",
    "        x1_arr.append(int(x))\n",
    "        y1_arr.append(int(y))\n",
    "        #x2_arr.append(int(x)+int(width))\n",
    "        #y2_arr.append(int(y)+int(height))\n",
    "        num+=1\n",
    "        tmp = image[y1:y2,x1:x2]\n",
    "        cv2.imwrite(\"tmp.jpeg\",tmp)\n",
    "        nametmp = food_pred(\"tmp.jpeg\")\n",
    "        cv2.imwrite(nametmp+str(int(x))+\".jpeg\",tmp)\n",
    "        print(nametmp+\" 으로 예측\")\n",
    "        name.append(nametmp)\n",
    "        #print(classes[class_id],class_id)\n",
    "        #res_json[\"w\"] = int(width)\n",
    "        #res_json[\"h\"] = int(height)\n",
    "        #res_json[\"framewidth\"] = int(framewidth)\n",
    "        #res_json[\"frameheight\"]= int(frameheight)\n",
    "        #jsons.append(res_json)\n",
    "    data = {\n",
    "        \"x1_arr\" : x1_arr,\n",
    "        \"y1_arr\" : y1_arr,\n",
    "        \"x2_arr\" : x2_arr,\n",
    "        \"y2_arr\" : y2_arr,\n",
    "        \"name\" : name,\n",
    "        \"num\" : num\n",
    "    }\n",
    "    js = json.dumps(data)\n",
    "    return js\n",
    "\n"
   ]
  },
  {
   "cell_type": "code",
   "execution_count": 10,
   "metadata": {},
   "outputs": [
    {
     "ename": "NameError",
     "evalue": "name 'food_classifier_pipeline' is not defined",
     "output_type": "error",
     "traceback": [
      "\u001b[0;31m---------------------------------------------------------------------------\u001b[0m",
      "\u001b[0;31mNameError\u001b[0m                                 Traceback (most recent call last)",
      "\u001b[0;32m<ipython-input-10-d9f73efdccc9>\u001b[0m in \u001b[0;36m<module>\u001b[0;34m\u001b[0m\n\u001b[1;32m      1\u001b[0m \u001b[0mimage\u001b[0m \u001b[0;34m=\u001b[0m \u001b[0mcv2\u001b[0m\u001b[0;34m.\u001b[0m\u001b[0mimread\u001b[0m\u001b[0;34m(\u001b[0m\u001b[0;34m\"./Android/image.jpeg\"\u001b[0m\u001b[0;34m)\u001b[0m\u001b[0;34m\u001b[0m\u001b[0;34m\u001b[0m\u001b[0m\n\u001b[0;32m----> 2\u001b[0;31m \u001b[0mjs\u001b[0m \u001b[0;34m=\u001b[0m \u001b[0mfood_pred_json\u001b[0m\u001b[0;34m(\u001b[0m\u001b[0mimage\u001b[0m\u001b[0;34m)\u001b[0m\u001b[0;34m\u001b[0m\u001b[0;34m\u001b[0m\u001b[0m\n\u001b[0m\u001b[1;32m      3\u001b[0m \u001b[0mprint\u001b[0m\u001b[0;34m(\u001b[0m\u001b[0mjs\u001b[0m\u001b[0;34m)\u001b[0m\u001b[0;34m\u001b[0m\u001b[0;34m\u001b[0m\u001b[0m\n",
      "\u001b[0;32m<ipython-input-9-02a51aabc755>\u001b[0m in \u001b[0;36mfood_pred_json\u001b[0;34m(image)\u001b[0m\n\u001b[1;32m      9\u001b[0m     \u001b[0;31m# do somthing\u001b[0m\u001b[0;34m\u001b[0m\u001b[0;34m\u001b[0m\u001b[0;34m\u001b[0m\u001b[0m\n\u001b[1;32m     10\u001b[0m     \u001b[0;31m#print(args.showText)\u001b[0m\u001b[0;34m\u001b[0m\u001b[0;34m\u001b[0m\u001b[0;34m\u001b[0m\u001b[0m\n\u001b[0;32m---> 11\u001b[0;31m     \u001b[0mlocations\u001b[0m \u001b[0;34m=\u001b[0m \u001b[0mfood_classifier_pipeline\u001b[0m\u001b[0;34m(\u001b[0m\u001b[0mframe\u001b[0m\u001b[0;34m=\u001b[0m\u001b[0mimage\u001b[0m\u001b[0;34m)\u001b[0m \u001b[0;31m#[(2321, 0, 0, 10, 10)] # list of (id, rect) from classfication\u001b[0m\u001b[0;34m\u001b[0m\u001b[0;34m\u001b[0m\u001b[0m\n\u001b[0m\u001b[1;32m     12\u001b[0m     \u001b[0mjsons\u001b[0m \u001b[0;34m=\u001b[0m \u001b[0;34m[\u001b[0m\u001b[0;34m]\u001b[0m\u001b[0;34m\u001b[0m\u001b[0;34m\u001b[0m\u001b[0m\n\u001b[1;32m     13\u001b[0m     \u001b[0mx1_arr\u001b[0m \u001b[0;34m=\u001b[0m \u001b[0;34m[\u001b[0m\u001b[0;34m]\u001b[0m\u001b[0;34m\u001b[0m\u001b[0;34m\u001b[0m\u001b[0m\n",
      "\u001b[0;31mNameError\u001b[0m: name 'food_classifier_pipeline' is not defined"
     ]
    }
   ],
   "source": [
    "image = cv2.imread(\"./Android/image.jpeg\")\n",
    "js = food_pred_json(image)\n",
    "print(js)"
   ]
  },
  {
   "cell_type": "code",
   "execution_count": null,
   "metadata": {},
   "outputs": [],
   "source": []
  }
 ],
 "metadata": {
  "kernelspec": {
   "display_name": "Python 3",
   "language": "python",
   "name": "python3"
  },
  "language_info": {
   "codemirror_mode": {
    "name": "ipython",
    "version": 3
   },
   "file_extension": ".py",
   "mimetype": "text/x-python",
   "name": "python",
   "nbconvert_exporter": "python",
   "pygments_lexer": "ipython3",
   "version": "3.8.5"
  }
 },
 "nbformat": 4,
 "nbformat_minor": 4
}
